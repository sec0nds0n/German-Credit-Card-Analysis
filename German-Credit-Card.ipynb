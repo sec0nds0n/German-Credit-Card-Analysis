{
 "cells": [
  {
   "cell_type": "markdown",
   "metadata": {},
   "source": [
    "## German Credit Card\n",
    "### Muhammad Dwison Alizah"
   ]
  },
  {
   "cell_type": "code",
   "execution_count": 1,
   "metadata": {},
   "outputs": [],
   "source": [
    "from pandas import read_csv\n",
    "from pandas.plotting import scatter_matrix\n",
    "import pandas as pd\n",
    "import matplotlib.pyplot as plt\n",
    "from sklearn.model_selection import train_test_split\n",
    "from sklearn.metrics import classification_report\n",
    "from sklearn.metrics import confusion_matrix\n",
    "from sklearn.metrics import accuracy_score\n",
    "import warnings"
   ]
  },
  {
   "cell_type": "code",
   "execution_count": 2,
   "metadata": {},
   "outputs": [],
   "source": [
    "filename = 'german.data'\n",
    "names = [\"Status of existing checking account\",'Duration in month','Credit history','Purpose','Credit amount',\n",
    "         'Savings account/bonds','Present employment since','Installment rate in percentage of disposable income',\n",
    "         'Personal status and sex','Other debtors / guarantors', 'Present residence since', 'Property',\n",
    "        'Age in years', 'Other installment plans', 'Housing', 'Number of existing credits at this bank', 'Job', \n",
    "        'Number of people being liable to provide maintenance for', 'Telephone', 'foreign worker', 'good/bad'\n",
    "        ]\n",
    "dataset = read_csv(filename, sep=' ', names=names)"
   ]
  },
  {
   "cell_type": "code",
   "execution_count": 3,
   "metadata": {},
   "outputs": [
    {
     "name": "stdout",
     "output_type": "stream",
     "text": [
      "(1000, 21)\n"
     ]
    }
   ],
   "source": [
    "print (dataset.shape)"
   ]
  },
  {
   "cell_type": "code",
   "execution_count": 4,
   "metadata": {},
   "outputs": [
    {
     "name": "stdout",
     "output_type": "stream",
     "text": [
      "  Status of existing checking account  Duration in month Credit history  \\\n",
      "0                                 A11                  6            A34   \n",
      "1                                 A12                 48            A32   \n",
      "2                                 A14                 12            A34   \n",
      "3                                 A11                 42            A32   \n",
      "4                                 A11                 24            A33   \n",
      "\n",
      "  Purpose  Credit amount Savings account/bonds Present employment since  \\\n",
      "0     A43           1169                   A65                      A75   \n",
      "1     A43           5951                   A61                      A73   \n",
      "2     A46           2096                   A61                      A74   \n",
      "3     A42           7882                   A61                      A74   \n",
      "4     A40           4870                   A61                      A73   \n",
      "\n",
      "   Installment rate in percentage of disposable income  \\\n",
      "0                                                  4     \n",
      "1                                                  2     \n",
      "2                                                  2     \n",
      "3                                                  2     \n",
      "4                                                  3     \n",
      "\n",
      "  Personal status and sex Other debtors / guarantors  ...  Property  \\\n",
      "0                     A93                       A101  ...      A121   \n",
      "1                     A92                       A101  ...      A121   \n",
      "2                     A93                       A101  ...      A121   \n",
      "3                     A93                       A103  ...      A122   \n",
      "4                     A93                       A101  ...      A124   \n",
      "\n",
      "  Age in years  Other installment plans Housing  \\\n",
      "0           67                     A143    A152   \n",
      "1           22                     A143    A152   \n",
      "2           49                     A143    A152   \n",
      "3           45                     A143    A153   \n",
      "4           53                     A143    A153   \n",
      "\n",
      "  Number of existing credits at this bank   Job  \\\n",
      "0                                       2  A173   \n",
      "1                                       1  A173   \n",
      "2                                       1  A172   \n",
      "3                                       1  A173   \n",
      "4                                       2  A173   \n",
      "\n",
      "  Number of people being liable to provide maintenance for  Telephone  \\\n",
      "0                                                  1             A192   \n",
      "1                                                  1             A191   \n",
      "2                                                  2             A191   \n",
      "3                                                  2             A191   \n",
      "4                                                  2             A191   \n",
      "\n",
      "  foreign worker good/bad  \n",
      "0           A201        1  \n",
      "1           A201        2  \n",
      "2           A201        1  \n",
      "3           A201        1  \n",
      "4           A201        2  \n",
      "\n",
      "[5 rows x 21 columns]\n"
     ]
    }
   ],
   "source": [
    "print (dataset.head(5))"
   ]
  },
  {
   "cell_type": "code",
   "execution_count": 5,
   "metadata": {},
   "outputs": [
    {
     "name": "stdout",
     "output_type": "stream",
     "text": [
      "       Duration in month  Credit amount  \\\n",
      "count        1000.000000    1000.000000   \n",
      "mean           20.903000    3271.258000   \n",
      "std            12.058814    2822.736876   \n",
      "min             4.000000     250.000000   \n",
      "25%            12.000000    1365.500000   \n",
      "50%            18.000000    2319.500000   \n",
      "75%            24.000000    3972.250000   \n",
      "max            72.000000   18424.000000   \n",
      "\n",
      "       Installment rate in percentage of disposable income  \\\n",
      "count                                        1000.000000     \n",
      "mean                                            2.973000     \n",
      "std                                             1.118715     \n",
      "min                                             1.000000     \n",
      "25%                                             2.000000     \n",
      "50%                                             3.000000     \n",
      "75%                                             4.000000     \n",
      "max                                             4.000000     \n",
      "\n",
      "       Present residence since  Age in years  \\\n",
      "count              1000.000000   1000.000000   \n",
      "mean                  2.845000     35.546000   \n",
      "std                   1.103718     11.375469   \n",
      "min                   1.000000     19.000000   \n",
      "25%                   2.000000     27.000000   \n",
      "50%                   3.000000     33.000000   \n",
      "75%                   4.000000     42.000000   \n",
      "max                   4.000000     75.000000   \n",
      "\n",
      "       Number of existing credits at this bank  \\\n",
      "count                              1000.000000   \n",
      "mean                                  1.407000   \n",
      "std                                   0.577654   \n",
      "min                                   1.000000   \n",
      "25%                                   1.000000   \n",
      "50%                                   1.000000   \n",
      "75%                                   2.000000   \n",
      "max                                   4.000000   \n",
      "\n",
      "       Number of people being liable to provide maintenance for     good/bad  \n",
      "count                                        1000.000000         1000.000000  \n",
      "mean                                            1.155000            1.300000  \n",
      "std                                             0.362086            0.458487  \n",
      "min                                             1.000000            1.000000  \n",
      "25%                                             1.000000            1.000000  \n",
      "50%                                             1.000000            1.000000  \n",
      "75%                                             1.000000            2.000000  \n",
      "max                                             2.000000            2.000000  \n"
     ]
    }
   ],
   "source": [
    "print(dataset.describe())"
   ]
  },
  {
   "cell_type": "code",
   "execution_count": 6,
   "metadata": {},
   "outputs": [
    {
     "name": "stdout",
     "output_type": "stream",
     "text": [
      "good/bad\n",
      "1    700\n",
      "2    300\n",
      "dtype: int64\n"
     ]
    }
   ],
   "source": [
    "print(dataset.groupby('good/bad').size())"
   ]
  },
  {
   "cell_type": "code",
   "execution_count": 7,
   "metadata": {
    "scrolled": true
   },
   "outputs": [
    {
     "name": "stdout",
     "output_type": "stream",
     "text": [
      "Status of existing checking account                         0\n",
      "Duration in month                                           0\n",
      "Credit history                                              0\n",
      "Purpose                                                     0\n",
      "Credit amount                                               0\n",
      "Savings account/bonds                                       0\n",
      "Present employment since                                    0\n",
      "Installment rate in percentage of disposable income         0\n",
      "Personal status and sex                                     0\n",
      "Other debtors / guarantors                                  0\n",
      "Present residence since                                     0\n",
      "Property                                                    0\n",
      "Age in years                                                0\n",
      "Other installment plans                                     0\n",
      "Housing                                                     0\n",
      "Number of existing credits at this bank                     0\n",
      "Job                                                         0\n",
      "Number of people being liable to provide maintenance for    0\n",
      "Telephone                                                   0\n",
      "foreign worker                                              0\n",
      "good/bad                                                    0\n",
      "dtype: int64\n"
     ]
    }
   ],
   "source": [
    "print(dataset.isna().sum())"
   ]
  },
  {
   "cell_type": "code",
   "execution_count": 8,
   "metadata": {},
   "outputs": [],
   "source": [
    "#menghilangkan missing value\n",
    "# import math\n",
    "# dataset.fillna(dataset['Saving accounts'].mode(),inplace=True)\n",
    "# dataset.fillna(dataset['Checking account'].mode(),inplace=True)\n",
    "#drop yg missing\n",
    "# dataset.dropna(subset=['Saving accounts'], inplace=True)\n",
    "# dataset.dropna(subset=['Checking account'], inplace=True)"
   ]
  },
  {
   "cell_type": "code",
   "execution_count": 9,
   "metadata": {},
   "outputs": [
    {
     "name": "stderr",
     "output_type": "stream",
     "text": [
      "/Library/Frameworks/Python.framework/Versions/3.8/lib/python3.8/site-packages/pandas/plotting/_matplotlib/tools.py:307: MatplotlibDeprecationWarning: \n",
      "The rowNum attribute was deprecated in Matplotlib 3.2 and will be removed two minor releases later. Use ax.get_subplotspec().rowspan.start instead.\n",
      "  layout[ax.rowNum, ax.colNum] = ax.get_visible()\n",
      "/Library/Frameworks/Python.framework/Versions/3.8/lib/python3.8/site-packages/pandas/plotting/_matplotlib/tools.py:307: MatplotlibDeprecationWarning: \n",
      "The colNum attribute was deprecated in Matplotlib 3.2 and will be removed two minor releases later. Use ax.get_subplotspec().colspan.start instead.\n",
      "  layout[ax.rowNum, ax.colNum] = ax.get_visible()\n",
      "/Library/Frameworks/Python.framework/Versions/3.8/lib/python3.8/site-packages/pandas/plotting/_matplotlib/tools.py:313: MatplotlibDeprecationWarning: \n",
      "The rowNum attribute was deprecated in Matplotlib 3.2 and will be removed two minor releases later. Use ax.get_subplotspec().rowspan.start instead.\n",
      "  if not layout[ax.rowNum + 1, ax.colNum]:\n",
      "/Library/Frameworks/Python.framework/Versions/3.8/lib/python3.8/site-packages/pandas/plotting/_matplotlib/tools.py:313: MatplotlibDeprecationWarning: \n",
      "The colNum attribute was deprecated in Matplotlib 3.2 and will be removed two minor releases later. Use ax.get_subplotspec().colspan.start instead.\n",
      "  if not layout[ax.rowNum + 1, ax.colNum]:\n"
     ]
    },
    {
     "data": {
      "image/png": "[encoded data removed]",
      "text/plain": [
       "<Figure size 432x288 with 64 Axes>"
      ]
     },
     "metadata": {
      "needs_background": "light"
     },
     "output_type": "display_data"
    }
   ],
   "source": [
    "from pandas.plotting import scatter_matrix\n",
    "scatter_matrix(dataset)\n",
    "plt.show()"
   ]
  },
  {
   "cell_type": "code",
   "execution_count": 10,
   "metadata": {},
   "outputs": [
    {
     "name": "stdout",
     "output_type": "stream",
     "text": [
      "                                                    Duration in month  \\\n",
      "Duration in month                                                1.00   \n",
      "Credit amount                                                    0.62   \n",
      "Installment rate in percentage of disposable in...               0.07   \n",
      "Present residence since                                          0.03   \n",
      "Age in years                                                    -0.04   \n",
      "Number of existing credits at this bank                         -0.01   \n",
      "Number of people being liable to provide mainte...              -0.02   \n",
      "good/bad                                                         0.21   \n",
      "\n",
      "                                                    Credit amount  \\\n",
      "Duration in month                                            0.62   \n",
      "Credit amount                                                1.00   \n",
      "Installment rate in percentage of disposable in...          -0.27   \n",
      "Present residence since                                      0.03   \n",
      "Age in years                                                 0.03   \n",
      "Number of existing credits at this bank                      0.02   \n",
      "Number of people being liable to provide mainte...           0.02   \n",
      "good/bad                                                     0.15   \n",
      "\n",
      "                                                    Installment rate in percentage of disposable income  \\\n",
      "Duration in month                                                                                0.07     \n",
      "Credit amount                                                                                   -0.27     \n",
      "Installment rate in percentage of disposable in...                                               1.00     \n",
      "Present residence since                                                                          0.05     \n",
      "Age in years                                                                                     0.06     \n",
      "Number of existing credits at this bank                                                          0.02     \n",
      "Number of people being liable to provide mainte...                                              -0.07     \n",
      "good/bad                                                                                         0.07     \n",
      "\n",
      "                                                    Present residence since  \\\n",
      "Duration in month                                                  3.41e-02   \n",
      "Credit amount                                                      2.89e-02   \n",
      "Installment rate in percentage of disposable in...                 4.93e-02   \n",
      "Present residence since                                            1.00e+00   \n",
      "Age in years                                                       2.66e-01   \n",
      "Number of existing credits at this bank                            8.96e-02   \n",
      "Number of people being liable to provide mainte...                 4.26e-02   \n",
      "good/bad                                                           2.97e-03   \n",
      "\n",
      "                                                    Age in years  \\\n",
      "Duration in month                                          -0.04   \n",
      "Credit amount                                               0.03   \n",
      "Installment rate in percentage of disposable in...          0.06   \n",
      "Present residence since                                     0.27   \n",
      "Age in years                                                1.00   \n",
      "Number of existing credits at this bank                     0.15   \n",
      "Number of people being liable to provide mainte...          0.12   \n",
      "good/bad                                                   -0.09   \n",
      "\n",
      "                                                    Number of existing credits at this bank  \\\n",
      "Duration in month                                                                     -0.01   \n",
      "Credit amount                                                                          0.02   \n",
      "Installment rate in percentage of disposable in...                                     0.02   \n",
      "Present residence since                                                                0.09   \n",
      "Age in years                                                                           0.15   \n",
      "Number of existing credits at this bank                                                1.00   \n",
      "Number of people being liable to provide mainte...                                     0.11   \n",
      "good/bad                                                                              -0.05   \n",
      "\n",
      "                                                    Number of people being liable to provide maintenance for  \\\n",
      "Duration in month                                                                           -2.38e-02          \n",
      "Credit amount                                                                                1.71e-02          \n",
      "Installment rate in percentage of disposable in...                                          -7.12e-02          \n",
      "Present residence since                                                                      4.26e-02          \n",
      "Age in years                                                                                 1.18e-01          \n",
      "Number of existing credits at this bank                                                      1.10e-01          \n",
      "Number of people being liable to provide mainte...                                           1.00e+00          \n",
      "good/bad                                                                                    -3.01e-03          \n",
      "\n",
      "                                                    good/bad  \n",
      "Duration in month                                   2.15e-01  \n",
      "Credit amount                                       1.55e-01  \n",
      "Installment rate in percentage of disposable in...  7.24e-02  \n",
      "Present residence since                             2.97e-03  \n",
      "Age in years                                       -9.11e-02  \n",
      "Number of existing credits at this bank            -4.57e-02  \n",
      "Number of people being liable to provide mainte... -3.01e-03  \n",
      "good/bad                                            1.00e+00  \n"
     ]
    }
   ],
   "source": [
    "#korelasi\n",
    "from pandas import set_option\n",
    "set_option('precision', 2)\n",
    "print(dataset.corr(method='pearson'))"
   ]
  },
  {
   "cell_type": "code",
   "execution_count": 11,
   "metadata": {},
   "outputs": [],
   "source": [
    "array = dataset.values\n",
    "X = array[:,0:-1]\n",
    "Y = array[:,20]\n",
    "validation_size = 0.20\n",
    "seed = 7\n",
    "# ubah nilai yang belum numerik\n",
    "from sklearn.preprocessing import LabelEncoder\n",
    "encode = LabelEncoder()\n",
    "for i in range (0, (X.shape[1])):\n",
    "    X[:,i] = encode.fit_transform(X[:,i])\n",
    "y = encode.fit_transform(Y)\n",
    "X_train, X_test, y_train, y_test = train_test_split(X, Y, test_size=validation_size, random_state=seed)"
   ]
  },
  {
   "cell_type": "code",
   "execution_count": 12,
   "metadata": {},
   "outputs": [
    {
     "data": {
      "text/plain": [
       "array([[0, 2, 4, ..., 0, 1, 0],\n",
       "       [1, 29, 2, ..., 0, 0, 0],\n",
       "       [3, 8, 4, ..., 1, 0, 0],\n",
       "       ...,\n",
       "       [3, 8, 2, ..., 0, 0, 0],\n",
       "       [0, 27, 2, ..., 0, 1, 0],\n",
       "       [1, 27, 4, ..., 0, 0, 0]], dtype=object)"
      ]
     },
     "execution_count": 12,
     "metadata": {},
     "output_type": "execute_result"
    }
   ],
   "source": [
    "X"
   ]
  },
  {
   "cell_type": "code",
   "execution_count": 13,
   "metadata": {},
   "outputs": [],
   "source": [
    "# Feature Scaling\n",
    "from sklearn.preprocessing import StandardScaler\n",
    "sc = StandardScaler()\n",
    "X_train = sc.fit_transform(X_train).astype('int')\n",
    "X_test = sc.transform(X_test).astype('int')\n",
    "#ubah ke object ke int\n",
    "y_train = y_train.astype('int')\n",
    "y_test = y_test.astype('int')"
   ]
  },
  {
   "cell_type": "code",
   "execution_count": 14,
   "metadata": {},
   "outputs": [
    {
     "data": {
      "text/plain": [
       "DecisionTreeClassifier(ccp_alpha=0.0, class_weight=None, criterion='entropy',\n",
       "                       max_depth=None, max_features=None, max_leaf_nodes=None,\n",
       "                       min_impurity_decrease=0.0, min_impurity_split=None,\n",
       "                       min_samples_leaf=1, min_samples_split=2,\n",
       "                       min_weight_fraction_leaf=0.0, presort='deprecated',\n",
       "                       random_state=0, splitter='best')"
      ]
     },
     "execution_count": 14,
     "metadata": {},
     "output_type": "execute_result"
    }
   ],
   "source": [
    "# decision tree\n",
    "from sklearn.tree import DecisionTreeClassifier\n",
    "classifier = DecisionTreeClassifier(criterion = 'entropy', random_state = 0)\n",
    "classifier.fit(X_train, y_train)"
   ]
  },
  {
   "cell_type": "code",
   "execution_count": 15,
   "metadata": {},
   "outputs": [
    {
     "data": {
      "text/plain": [
       "KNeighborsClassifier(algorithm='auto', leaf_size=30, metric='minkowski',\n",
       "                     metric_params=None, n_jobs=None, n_neighbors=5, p=2,\n",
       "                     weights='uniform')"
      ]
     },
     "execution_count": 15,
     "metadata": {},
     "output_type": "execute_result"
    }
   ],
   "source": [
    "# knn\n",
    "from sklearn.neighbors import KNeighborsClassifier\n",
    "classifier = KNeighborsClassifier(n_neighbors = 5, metric = 'minkowski', p = 2)\n",
    "classifier.fit(X_train, y_train)"
   ]
  },
  {
   "cell_type": "code",
   "execution_count": 16,
   "metadata": {},
   "outputs": [
    {
     "data": {
      "text/plain": [
       "SVC(C=1.0, break_ties=False, cache_size=200, class_weight=None, coef0=0.0,\n",
       "    decision_function_shape='ovr', degree=3, gamma='scale', kernel='rbf',\n",
       "    max_iter=-1, probability=False, random_state=0, shrinking=True, tol=0.001,\n",
       "    verbose=False)"
      ]
     },
     "execution_count": 16,
     "metadata": {},
     "output_type": "execute_result"
    }
   ],
   "source": [
    "# SVM (RBF)\n",
    "from sklearn.svm import SVC\n",
    "classifier = SVC(kernel = 'rbf', random_state = 0)\n",
    "classifier.fit(X_train, y_train)"
   ]
  },
  {
   "cell_type": "code",
   "execution_count": 32,
   "metadata": {
    "scrolled": true
   },
   "outputs": [
    {
     "data": {
      "text/plain": [
       "LogisticRegression(C=1.0, class_weight=None, dual=False, fit_intercept=True,\n",
       "                   intercept_scaling=1, l1_ratio=None, max_iter=100,\n",
       "                   multi_class='auto', n_jobs=None, penalty='l2',\n",
       "                   random_state=0, solver='lbfgs', tol=0.0001, verbose=0,\n",
       "                   warm_start=False)"
      ]
     },
     "execution_count": 32,
     "metadata": {},
     "output_type": "execute_result"
    }
   ],
   "source": [
    "#Logistic Regression\n",
    "from sklearn.linear_model import LogisticRegression\n",
    "classifier = LogisticRegression(random_state = 0)\n",
    "classifier.fit(X_train, y_train)"
   ]
  },
  {
   "cell_type": "code",
   "execution_count": 38,
   "metadata": {},
   "outputs": [
    {
     "data": {
      "text/plain": [
       "GaussianNB(priors=None, var_smoothing=1e-09)"
      ]
     },
     "execution_count": 38,
     "metadata": {},
     "output_type": "execute_result"
    }
   ],
   "source": [
    "#naive bayes\n",
    "from sklearn.naive_bayes import GaussianNB\n",
    "classifier = GaussianNB()\n",
    "classifier.fit(X_train, y_train)"
   ]
  },
  {
   "cell_type": "code",
   "execution_count": 39,
   "metadata": {},
   "outputs": [],
   "source": [
    "# Predicting the Test set results\n",
    "y_pred = classifier.predict(X_test)"
   ]
  },
  {
   "cell_type": "code",
   "execution_count": 40,
   "metadata": {},
   "outputs": [],
   "source": [
    "# Making the Confusion Matrix\n",
    "from sklearn.metrics import confusion_matrix\n",
    "cm = confusion_matrix(y_test, y_pred)\n",
    "cr = classification_report(y_test, y_pred)"
   ]
  },
  {
   "cell_type": "code",
   "execution_count": 41,
   "metadata": {
    "scrolled": true
   },
   "outputs": [
    {
     "name": "stdout",
     "output_type": "stream",
     "text": [
      "[[117  32]\n",
      " [ 20  31]]\n"
     ]
    }
   ],
   "source": [
    "print(cm)"
   ]
  },
  {
   "cell_type": "code",
   "execution_count": 42,
   "metadata": {
    "scrolled": true
   },
   "outputs": [
    {
     "name": "stdout",
     "output_type": "stream",
     "text": [
      "              precision    recall  f1-score   support\n",
      "\n",
      "           1       0.85      0.79      0.82       149\n",
      "           2       0.49      0.61      0.54        51\n",
      "\n",
      "    accuracy                           0.74       200\n",
      "   macro avg       0.67      0.70      0.68       200\n",
      "weighted avg       0.76      0.74      0.75       200\n",
      "\n"
     ]
    }
   ],
   "source": [
    "print(cr)"
   ]
  },
  {
   "cell_type": "code",
   "execution_count": 43,
   "metadata": {},
   "outputs": [],
   "source": [
    "# k-fold cross validation untuk menghindari overfitting\n",
    "from sklearn.model_selection import cross_val_score, train_test_split\n",
    "skor = cross_val_score(classifier, X, y, cv=5)\n",
    "rata2_skor = skor.mean()\n",
    "std_var = skor.std()"
   ]
  },
  {
   "cell_type": "code",
   "execution_count": 44,
   "metadata": {
    "scrolled": true
   },
   "outputs": [
    {
     "name": "stdout",
     "output_type": "stream",
     "text": [
      "0.728\n"
     ]
    }
   ],
   "source": [
    "print(rata2_skor)"
   ]
  },
  {
   "cell_type": "code",
   "execution_count": 45,
   "metadata": {},
   "outputs": [
    {
     "name": "stdout",
     "output_type": "stream",
     "text": [
      "0.026944387170614984\n"
     ]
    }
   ],
   "source": [
    "print(std_var)"
   ]
  },
  {
   "cell_type": "code",
   "execution_count": 46,
   "metadata": {},
   "outputs": [],
   "source": [
    "from sklearn.model_selection import GridSearchCV"
   ]
  },
  {
   "cell_type": "code",
   "execution_count": 27,
   "metadata": {},
   "outputs": [],
   "source": [
    "#decision tree\n",
    "parameters = [{'criterion': ['gini','entropy'], 'min_samples_split':[1,2,3,4,5], 'min_samples_leaf':[1,2,3,4,5]}]"
   ]
  },
  {
   "cell_type": "code",
   "execution_count": 28,
   "metadata": {},
   "outputs": [],
   "source": [
    "#knn\n",
    "parameters = [{'leaf_size': [10,20,30,40,50], 'n_neighbors':[1,2,3,4,5]}]"
   ]
  },
  {
   "cell_type": "code",
   "execution_count": 29,
   "metadata": {},
   "outputs": [],
   "source": [
    "#SVM\n",
    "parameters = [{'C': [1, 10, 100, 1000], 'kernel': ['linear']},\n",
    "              {'C': [1, 10, 100, 1000], 'kernel': ['rbf'], 'gamma': [0.1, 0.2, 0.3, 0.4, 0.5, 0.6, 0.7, 0.8, 0.9]}]"
   ]
  },
  {
   "cell_type": "code",
   "execution_count": 33,
   "metadata": {},
   "outputs": [],
   "source": [
    "#logistic regression\n",
    "parameters = [{'C': [1, 10, 100, 1000], 'penalty':['l1', 'l2']}]"
   ]
  },
  {
   "cell_type": "code",
   "execution_count": 47,
   "metadata": {},
   "outputs": [],
   "source": [
    "#naive bayes\n",
    "parameters = [{'var_smoothing': [1e-10, 1e-9, 1e-8, 1e-7, 1e-6]}]"
   ]
  },
  {
   "cell_type": "code",
   "execution_count": 48,
   "metadata": {},
   "outputs": [],
   "source": [
    "grid_search = GridSearchCV(estimator = classifier,\n",
    "                           param_grid = parameters,\n",
    "                           scoring = 'accuracy',\n",
    "                           cv = 10,\n",
    "                           n_jobs = -1)\n",
    "grid_search = grid_search.fit(X_train, y_train)\n",
    "best_accuracy = grid_search.best_score_\n",
    "best_parameters = grid_search.best_params_"
   ]
  },
  {
   "cell_type": "code",
   "execution_count": 49,
   "metadata": {},
   "outputs": [
    {
     "data": {
      "text/plain": [
       "0.64625"
      ]
     },
     "execution_count": 49,
     "metadata": {},
     "output_type": "execute_result"
    }
   ],
   "source": [
    "best_accuracy"
   ]
  },
  {
   "cell_type": "code",
   "execution_count": 50,
   "metadata": {},
   "outputs": [
    {
     "data": {
      "text/plain": [
       "{'var_smoothing': 1e-10}"
      ]
     },
     "execution_count": 50,
     "metadata": {},
     "output_type": "execute_result"
    }
   ],
   "source": [
    "best_parameters"
   ]
  }
 ],
 "metadata": {
  "kernelspec": {
   "display_name": "Python 3",
   "language": "python",
   "name": "python3"
  },
  "language_info": {
   "codemirror_mode": {
    "name": "ipython",
    "version": 3
   },
   "file_extension": ".py",
   "mimetype": "text/x-python",
   "name": "python",
   "nbconvert_exporter": "python",
   "pygments_lexer": "ipython3",
   "version": "3.8.1"
  }
 },
 "nbformat": 4,
 "nbformat_minor": 4
}
